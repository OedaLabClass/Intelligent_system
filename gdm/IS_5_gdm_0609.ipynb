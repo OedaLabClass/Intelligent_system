{
 "cells": [
  {
   "cell_type": "markdown",
   "metadata": {},
   "source": [
    "# 最急降下法を多変数関数に適用する．"
   ]
  },
  {
   "cell_type": "markdown",
   "metadata": {},
   "source": [
    "このページは以下のリンクより， google colaboratoryから動作させることができる．\n",
    "- [Open with Colab](https://colab.research.google.com/github/OedaLabClass/Intelligent_system/blob/master/gdm/IS_5_gdm_0609.ipynb)"
   ]
  },
  {
   "cell_type": "markdown",
   "metadata": {},
   "source": [
    "## 最急降下法を多変数関数に適用する\n",
    "目的関数が微分できれば，多変数関数でも極小値を求めることができる"
   ]
  },
  {
   "cell_type": "markdown",
   "metadata": {},
   "source": [
    "目的関数\n",
    "\n",
    "$$\n",
    " f\\left(x,y\\right)=\\sin{(x)}+2x\\cos{(y)}+0.2x^2+0.2y^2\n",
    "$$\n",
    "\n",
    "の最小値を求めたい．"
   ]
  },
  {
   "cell_type": "markdown",
   "metadata": {},
   "source": [
    "表示すると，次のような複雑な局面を持つ2変数関数です．"
   ]
  },
  {
   "cell_type": "markdown",
   "metadata": {},
   "source": [
    "![title](./img/sincos.png)"
   ]
  },
  {
   "cell_type": "markdown",
   "metadata": {},
   "source": [
    "多変数関数でも，偏微分できれば最急降下法が使えます．\n",
    "\n",
    "\n",
    "目的関数\n",
    "\n",
    "$$\n",
    " f\\left(x,y\\right)=\\sin{(x)}+2x\\cos{(y)}+0.2x^2+0.2y^2\n",
    "$$\n",
    "\n",
    "偏微分\n",
    "$$\n",
    "\\begin{align}\n",
    "\\frac{\\partial f(x,y)}{\\partial x} &=\\cos{(x)}+2\\cos{(y)}+0.4x\\\\\n",
    "\\frac{\\partial f(x,y)}{\\partial y} &=-2x\\sin{(y)}+0.4y\n",
    "\\end{align}\n",
    "$$"
   ]
  },
  {
   "cell_type": "code",
   "execution_count": null,
   "metadata": {},
   "outputs": [],
   "source": [
    "# 複雑な3次元データの最小値を求める．\n",
    "\n",
    "import numpy as np\n",
    "\n",
    "#\n",
    "# 目的関数を設定（この関数の最小値を求めたい．）\n",
    "#\n",
    "def mathfunc(a, b):\n",
    "    y = np.sin(a)+2*a*np.cos(b)+0.2*a**2+0.2*b**2\n",
    "    return y\n",
    "\n",
    "# 最急降下法で目的関数の最小値をとるパラメータを求める．\n",
    "\n",
    "# 初期値\n",
    "a = 5.8\n",
    "b = 6.2\n",
    "c = mathfunc(a, b)\n",
    "\n",
    "# 学習係数\n",
    "eta = 0.01\n",
    "\n",
    "# 目的関数の偏微分:x\n",
    "def ｄerivative_x(a, b):\n",
    "    y = np.cos(a)+2.0*np.cos(b)+0.4*a\n",
    "    return y\n",
    "\n",
    "# 目的関数の偏微分:y\n",
    "def ｄerivative_y(a,b):\n",
    "    y = -2*np.sin(b)+0.4*b\n",
    "    return y\n",
    "\n",
    "para_a = []\n",
    "para_b =[]\n",
    "para_c =[]\n",
    "\n",
    "# 終了条件\n",
    "epsilon = 0.0001\n",
    "old_para_a = a\n",
    "old_para_b = b\n",
    "\n",
    "ct = 0\n",
    "for i in range(1000):\n",
    "    para_a.append(a)\n",
    "    para_b.append(b)\n",
    "    para_c.append(c)\n",
    "\n",
    "    # 更新式\n",
    "    a = a - eta*derivative_x(a, b)\n",
    "    b = b - eta*derivative_y(a, b)\n",
    "    c = mathfunc(a, b)\n",
    "    \n",
    "    if abs(old_para_a-a)<epsilon and abs(old_para_b-b)<epsilon:\n",
    "        break\n",
    "    old_para_a = a\n",
    "    old_para_b = b\n",
    "    \n",
    "    ct+=1\n",
    "\n",
    "# 更新回数\n",
    "print('更新回数=', ct)\n",
    "\n",
    "# 求めたパラメータ\n",
    "print('a=', a)\n",
    "print('b=', b)\n",
    "\n",
    "#\n",
    "# 最急降下法の様子をグラフを表示する\n",
    "# （ここでは3次元グラフ）\n",
    "#\n",
    "\n",
    "from mpl_toolkits.mplot3d import Axes3D\n",
    "import matplotlib.pyplot as plt\n",
    "import numpy as np\n",
    "\n",
    "x = np.arange(-10.0, 10.0, 1)\n",
    "y = np.arange(-10.0, 10.0, 1)\n",
    "X, Y = np.meshgrid(x, y)\n",
    "Z = mathfunc(X, Y)\n",
    "fig = plt.figure()\n",
    "ax = Axes3D(fig)\n",
    "ax.plot_wireframe(X, Y, Z)\n",
    "ax.plot(para_a, para_b, para_c,marker=\"o\",linestyle='None', color='red')\n",
    "plt.show()"
   ]
  },
  {
   "cell_type": "markdown",
   "metadata": {},
   "source": [
    "更新の様子を別の角度から見たものを下図に示す．\n",
    "<img src=\"img/gdm7.png\" width=\"400\">\n",
    "<div style=\"text-align: center;\">\n",
    "図7.  多変数関数の最急降下法の様子\n",
    "</div>"
   ]
  },
  {
   "cell_type": "markdown",
   "metadata": {},
   "source": [
    "## 最急降下法の欠点\n",
    "- 最急降下法は最小値ではなく，極小値を求めることしかできない．  \n",
    "- 結果が初期値に依存する\n",
    "- 学習係数のパラメータの設定を行う必要がある．"
   ]
  }
 ],
 "metadata": {
  "kernelspec": {
   "display_name": "Python 3",
   "language": "python",
   "name": "python3"
  },
  "language_info": {
   "codemirror_mode": {
    "name": "ipython",
    "version": 3
   },
   "file_extension": ".py",
   "mimetype": "text/x-python",
   "name": "python",
   "nbconvert_exporter": "python",
   "pygments_lexer": "ipython3",
   "version": "3.7.4"
  }
 },
 "nbformat": 4,
 "nbformat_minor": 2
}
